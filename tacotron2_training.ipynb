{
 "cells": [
  {
   "cell_type": "markdown",
   "id": "b65c9c1c",
   "metadata": {},
   "source": [
    "# Tacotron 2 Training & Evaluation\n",
    "\n",
    "**Goals:**\n",
    "- Train Tacotron 2 on LJ Speech dataset\n",
    "- Evaluate model performance using loss and generated audio\n",
    "- Replace Docker workflow with native shell and Python calls"
   ]
  },
  {
   "cell_type": "code",
   "execution_count": 1,
   "id": "daeb3d88",
   "metadata": {},
   "outputs": [
    {
     "name": "stdout",
     "output_type": "stream",
     "text": [
      "Requirement already satisfied: numpy in /share/pkg.8/academic-ml/spring-2025/install/spring-2025-pyt/lib/python3.11/site-packages (1.26.4)\n",
      "Requirement already satisfied: scipy in /share/pkg.8/academic-ml/spring-2025/install/spring-2025-pyt/lib/python3.11/site-packages (1.15.1)\n",
      "Requirement already satisfied: matplotlib in /share/pkg.8/academic-ml/spring-2025/install/spring-2025-pyt/lib/python3.11/site-packages (3.10.0)\n",
      "Requirement already satisfied: librosa in /share/pkg.8/academic-ml/spring-2025/install/spring-2025-pyt/lib/python3.11/site-packages (0.10.2.post1)\n",
      "Requirement already satisfied: inflect in /usr4/cs585bp/yukktas/.local/lib/python3.11/site-packages (7.5.0)\n",
      "Requirement already satisfied: pillow in /share/pkg.8/academic-ml/spring-2025/install/spring-2025-pyt/lib/python3.11/site-packages (11.1.0)\n",
      "Requirement already satisfied: tqdm in /share/pkg.8/academic-ml/spring-2025/install/spring-2025-pyt/lib/python3.11/site-packages (4.67.1)\n",
      "Requirement already satisfied: unidecode in /usr4/cs585bp/yukktas/.local/lib/python3.11/site-packages (1.3.8)\n",
      "Requirement already satisfied: contourpy>=1.0.1 in /share/pkg.8/academic-ml/spring-2025/install/spring-2025-pyt/lib/python3.11/site-packages (from matplotlib) (1.3.1)\n",
      "Requirement already satisfied: cycler>=0.10 in /share/pkg.8/academic-ml/spring-2025/install/spring-2025-pyt/lib/python3.11/site-packages (from matplotlib) (0.12.1)\n",
      "Requirement already satisfied: fonttools>=4.22.0 in /share/pkg.8/academic-ml/spring-2025/install/spring-2025-pyt/lib/python3.11/site-packages (from matplotlib) (4.55.3)\n",
      "Requirement already satisfied: kiwisolver>=1.3.1 in /share/pkg.8/academic-ml/spring-2025/install/spring-2025-pyt/lib/python3.11/site-packages (from matplotlib) (1.4.7)\n",
      "Requirement already satisfied: packaging>=20.0 in /share/pkg.8/academic-ml/spring-2025/install/spring-2025-pyt/lib/python3.11/site-packages (from matplotlib) (24.2)\n",
      "Requirement already satisfied: pyparsing>=2.3.1 in /share/pkg.8/academic-ml/spring-2025/install/spring-2025-pyt/lib/python3.11/site-packages (from matplotlib) (3.2.1)\n",
      "Requirement already satisfied: python-dateutil>=2.7 in /share/pkg.8/academic-ml/spring-2025/install/spring-2025-pyt/lib/python3.11/site-packages (from matplotlib) (2.9.0.post0)\n",
      "Requirement already satisfied: audioread>=2.1.9 in /share/pkg.8/academic-ml/spring-2025/install/spring-2025-pyt/lib/python3.11/site-packages (from librosa) (3.0.1)\n",
      "Requirement already satisfied: scikit-learn>=0.20.0 in /share/pkg.8/academic-ml/spring-2025/install/spring-2025-pyt/lib/python3.11/site-packages (from librosa) (1.6.1)\n",
      "Requirement already satisfied: joblib>=0.14 in /share/pkg.8/academic-ml/spring-2025/install/spring-2025-pyt/lib/python3.11/site-packages (from librosa) (1.4.2)\n",
      "Requirement already satisfied: decorator>=4.3.0 in /share/pkg.8/academic-ml/spring-2025/install/spring-2025-pyt/lib/python3.11/site-packages (from librosa) (5.1.1)\n",
      "Requirement already satisfied: numba>=0.51.0 in /share/pkg.8/academic-ml/spring-2025/install/spring-2025-pyt/lib/python3.11/site-packages (from librosa) (0.60.0)\n",
      "Requirement already satisfied: soundfile>=0.12.1 in /share/pkg.8/academic-ml/spring-2025/install/spring-2025-pyt/lib/python3.11/site-packages (from librosa) (0.13.0)\n",
      "Requirement already satisfied: pooch>=1.1 in /share/pkg.8/academic-ml/spring-2025/install/spring-2025-pyt/lib/python3.11/site-packages (from librosa) (1.8.2)\n",
      "Requirement already satisfied: soxr>=0.3.2 in /share/pkg.8/academic-ml/spring-2025/install/spring-2025-pyt/lib/python3.11/site-packages (from librosa) (0.5.0.post1)\n",
      "Requirement already satisfied: typing-extensions>=4.1.1 in /share/pkg.8/academic-ml/spring-2025/install/spring-2025-pyt/lib/python3.11/site-packages (from librosa) (4.12.2)\n",
      "Requirement already satisfied: lazy-loader>=0.1 in /share/pkg.8/academic-ml/spring-2025/install/spring-2025-pyt/lib/python3.11/site-packages (from librosa) (0.4)\n",
      "Requirement already satisfied: msgpack>=1.0 in /share/pkg.8/academic-ml/spring-2025/install/spring-2025-pyt/lib/python3.11/site-packages (from librosa) (1.1.0)\n",
      "Requirement already satisfied: more_itertools>=8.5.0 in /share/pkg.8/academic-ml/spring-2025/install/spring-2025-pyt/lib/python3.11/site-packages (from inflect) (10.6.0)\n",
      "Requirement already satisfied: typeguard>=4.0.1 in /usr4/cs585bp/yukktas/.local/lib/python3.11/site-packages (from inflect) (4.4.2)\n",
      "Requirement already satisfied: llvmlite<0.44,>=0.43.0dev0 in /share/pkg.8/academic-ml/spring-2025/install/spring-2025-pyt/lib/python3.11/site-packages (from numba>=0.51.0->librosa) (0.43.0)\n",
      "Requirement already satisfied: platformdirs>=2.5.0 in /share/pkg.8/academic-ml/spring-2025/install/spring-2025-pyt/lib/python3.11/site-packages (from pooch>=1.1->librosa) (4.3.6)\n",
      "Requirement already satisfied: requests>=2.19.0 in /share/pkg.8/academic-ml/spring-2025/install/spring-2025-pyt/lib/python3.11/site-packages (from pooch>=1.1->librosa) (2.32.3)\n",
      "Requirement already satisfied: six>=1.5 in /share/pkg.8/academic-ml/spring-2025/install/spring-2025-pyt/lib/python3.11/site-packages (from python-dateutil>=2.7->matplotlib) (1.17.0)\n",
      "Requirement already satisfied: threadpoolctl>=3.1.0 in /share/pkg.8/academic-ml/spring-2025/install/spring-2025-pyt/lib/python3.11/site-packages (from scikit-learn>=0.20.0->librosa) (3.5.0)\n",
      "Requirement already satisfied: cffi>=1.0 in /share/pkg.8/academic-ml/spring-2025/install/spring-2025-pyt/lib/python3.11/site-packages (from soundfile>=0.12.1->librosa) (1.17.1)\n",
      "Requirement already satisfied: pycparser in /share/pkg.8/academic-ml/spring-2025/install/spring-2025-pyt/lib/python3.11/site-packages (from cffi>=1.0->soundfile>=0.12.1->librosa) (2.22)\n",
      "Requirement already satisfied: charset_normalizer<4,>=2 in /share/pkg.8/academic-ml/spring-2025/install/spring-2025-pyt/lib/python3.11/site-packages (from requests>=2.19.0->pooch>=1.1->librosa) (3.4.1)\n",
      "Requirement already satisfied: idna<4,>=2.5 in /share/pkg.8/academic-ml/spring-2025/install/spring-2025-pyt/lib/python3.11/site-packages (from requests>=2.19.0->pooch>=1.1->librosa) (3.10)\n",
      "Requirement already satisfied: urllib3<3,>=1.21.1 in /share/pkg.8/academic-ml/spring-2025/install/spring-2025-pyt/lib/python3.11/site-packages (from requests>=2.19.0->pooch>=1.1->librosa) (2.3.0)\n",
      "Requirement already satisfied: certifi>=2017.4.17 in /share/pkg.8/academic-ml/spring-2025/install/spring-2025-pyt/lib/python3.11/site-packages (from requests>=2.19.0->pooch>=1.1->librosa) (2025.1.31)\n"
     ]
    }
   ],
   "source": [
    "Install required packages\n",
    "!pip install --user numpy scipy matplotlib librosa inflect pillow tqdm unidecode"
   ]
  },
  {
   "cell_type": "markdown",
   "id": "7d3f8151",
   "metadata": {},
   "source": [
    "Download & Preprocess Dataset"
   ]
  },
  {
   "cell_type": "code",
   "execution_count": 2,
   "id": "574cdbce",
   "metadata": {},
   "outputs": [],
   "source": [
    "# Run the data preparation shell script\n",
    "!bash scripts/prepare_dataset.sh"
   ]
  },
  {
   "cell_type": "markdown",
   "id": "b6f25380",
   "metadata": {},
   "source": [
    "Train Tacotron 2 Model"
   ]
  },
  {
   "cell_type": "code",
   "execution_count": 3,
   "id": "971fc97a-1b8d-4ee2-874d-d27af115b04e",
   "metadata": {},
   "outputs": [
    {
     "name": "stdout",
     "output_type": "stream",
     "text": [
      "Collecting git+https://github.com/NVIDIA/dllogger.git\n",
      "  Cloning https://github.com/NVIDIA/dllogger.git to /scratch/3690043.1.academic-gpu/pip-req-build-ht3lm1yu\n",
      "  Running command git clone --filter=blob:none --quiet https://github.com/NVIDIA/dllogger.git /scratch/3690043.1.academic-gpu/pip-req-build-ht3lm1yu\n",
      "  Resolved https://github.com/NVIDIA/dllogger.git to commit 0478734ff7be75adde8d160e04872664d1c62e5f\n",
      "  Preparing metadata (setup.py) ... \u001b[?25done\n",
      "\u001b[?25h"
     ]
    }
   ],
   "source": [
    "!pip install --user git+https://github.com/NVIDIA/dllogger.git"
   ]
  },
  {
   "cell_type": "code",
   "execution_count": 4,
   "id": "706a0c27-9912-426a-83d3-75cd05d7bbe3",
   "metadata": {},
   "outputs": [
    {
     "name": "stdout",
     "output_type": "stream",
     "text": [
      "✅ Generated filelists/train.txt and filelists/val.txt\n"
     ]
    }
   ],
   "source": [
    "import os\n",
    "import random\n",
    "\n",
    "data_dir = 'LJSpeech-1.1'\n",
    "metadata_path = os.path.join(data_dir, 'metadata.csv')\n",
    "output_dir = 'filelists'\n",
    "os.makedirs(output_dir, exist_ok=True)\n",
    "\n",
    "# Read metadata\n",
    "with open(metadata_path, 'r', encoding='utf-8') as f:\n",
    "    lines = f.readlines()\n",
    "\n",
    "# Shuffle and split\n",
    "random.seed(42)\n",
    "random.shuffle(lines)\n",
    "split = int(0.95 * len(lines))  # 95% train, 5% val\n",
    "train_lines = lines[:split]\n",
    "val_lines = lines[split:]\n",
    "\n",
    "# Format entries as: wavs/LJ001-0001.wav|transcript\n",
    "def format_line(line):\n",
    "    parts = line.strip().split('|')\n",
    "    wav_path = os.path.join(data_dir, 'wavs', f\"{parts[0]}.wav\")\n",
    "    return f\"{wav_path}|{parts[1]}\\n\"\n",
    "\n",
    "with open(os.path.join(output_dir, 'train.txt'), 'w') as f:\n",
    "    f.writelines([format_line(line) for line in train_lines])\n",
    "\n",
    "with open(os.path.join(output_dir, 'val.txt'), 'w') as f:\n",
    "    f.writelines([format_line(line) for line in val_lines])\n",
    "\n",
    "print(\" Generated filelists/train.txt and filelists/val.txt\")\n"
   ]
  },
  {
   "cell_type": "code",
   "execution_count": 5,
   "id": "2f2d3731-f084-4751-8e73-3ca7362cf5e6",
   "metadata": {},
   "outputs": [],
   "source": [
    "import os\n",
    "\n",
    "# Create output directory if it doesn't exist\n",
    "os.makedirs(\"output\", exist_ok=True)"
   ]
  },
  {
   "cell_type": "code",
   "execution_count": null,
   "id": "bc7485f9",
   "metadata": {
    "scrolled": true
   },
   "outputs": [
    {
     "name": "stdout",
     "output_type": "stream",
     "text": [
      "DLL 2025-04-10 16:46:40.661370 - PARAMETER output : . \n",
      "DLL 2025-04-10 16:46:40.661443 - PARAMETER dataset_path : ./ \n",
      "DLL 2025-04-10 16:46:40.661488 - PARAMETER model_name : Tacotron2 \n",
      "DLL 2025-04-10 16:46:40.661513 - PARAMETER log_file : output/log_tacotron2.txt \n",
      "DLL 2025-04-10 16:46:40.661552 - PARAMETER anneal_steps : None \n",
      "DLL 2025-04-10 16:46:40.661576 - PARAMETER anneal_factor : 0.1 \n",
      "DLL 2025-04-10 16:46:40.661599 - PARAMETER config_file : None \n",
      "DLL 2025-04-10 16:46:40.661629 - PARAMETER seed : None \n",
      "DLL 2025-04-10 16:46:40.661659 - PARAMETER epochs : 1500 \n",
      "DLL 2025-04-10 16:46:40.661683 - PARAMETER epochs_per_checkpoint : 50 \n",
      "DLL 2025-04-10 16:46:40.661704 - PARAMETER checkpoint_path :  \n",
      "DLL 2025-04-10 16:46:40.661724 - PARAMETER resume_from_last : False \n",
      "DLL 2025-04-10 16:46:40.661745 - PARAMETER dynamic_loss_scaling : True \n",
      "DLL 2025-04-10 16:46:40.661764 - PARAMETER amp : False \n",
      "DLL 2025-04-10 16:46:40.661793 - PARAMETER cudnn_enabled : True \n",
      "DLL 2025-04-10 16:46:40.661812 - PARAMETER cudnn_benchmark : False \n",
      "DLL 2025-04-10 16:46:40.661831 - PARAMETER disable_uniform_initialize_bn_weight : False \n",
      "DLL 2025-04-10 16:46:40.661849 - PARAMETER use_saved_learning_rate : False \n",
      "DLL 2025-04-10 16:46:40.661867 - PARAMETER learning_rate : 0.001 \n",
      "DLL 2025-04-10 16:46:40.661886 - PARAMETER weight_decay : 1e-06 \n",
      "DLL 2025-04-10 16:46:40.661906 - PARAMETER grad_clip_thresh : 1.0 \n",
      "DLL 2025-04-10 16:46:40.661924 - PARAMETER batch_size : 16 \n",
      "DLL 2025-04-10 16:46:40.661942 - PARAMETER grad_clip : 5.0 \n",
      "DLL 2025-04-10 16:46:40.661961 - PARAMETER load_mel_from_disk : False \n",
      "DLL 2025-04-10 16:46:40.661978 - PARAMETER training_files : filelists/train.txt \n",
      "DLL 2025-04-10 16:46:40.661996 - PARAMETER validation_files : filelists/val.txt \n",
      "DLL 2025-04-10 16:46:40.662014 - PARAMETER text_cleaners : ['english_cleaners'] \n",
      "DLL 2025-04-10 16:46:40.662036 - PARAMETER max_wav_value : 32768.0 \n",
      "DLL 2025-04-10 16:46:40.662054 - PARAMETER sampling_rate : 22050 \n",
      "DLL 2025-04-10 16:46:40.662072 - PARAMETER filter_length : 1024 \n",
      "DLL 2025-04-10 16:46:40.662090 - PARAMETER hop_length : 256 \n",
      "DLL 2025-04-10 16:46:40.662108 - PARAMETER win_length : 1024 \n",
      "DLL 2025-04-10 16:46:40.662126 - PARAMETER mel_fmin : 0.0 \n",
      "DLL 2025-04-10 16:46:40.662144 - PARAMETER mel_fmax : 8000.0 \n",
      "DLL 2025-04-10 16:46:40.662163 - PARAMETER rank : 0 \n",
      "DLL 2025-04-10 16:46:40.662182 - PARAMETER world_size : 1 \n",
      "DLL 2025-04-10 16:46:40.662200 - PARAMETER dist_url : tcp://localhost:23456 \n",
      "DLL 2025-04-10 16:46:40.662218 - PARAMETER group_name : group_name \n",
      "DLL 2025-04-10 16:46:40.662236 - PARAMETER dist_backend : nccl \n",
      "DLL 2025-04-10 16:46:40.662253 - PARAMETER bench_class :  \n",
      "DLL 2025-04-10 16:46:40.662271 - PARAMETER model_name : Tacotron2_PyT \n",
      "/projectnb/ec523/students/yukktas/Project/Tacotron2/train.py:404: FutureWarning: `torch.cuda.amp.GradScaler(args...)` is deprecated. Please use `torch.amp.GradScaler('cuda', args...)` instead.\n",
      "  scaler = torch.cuda.amp.GradScaler(enabled=args.amp)\n",
      "DLL 2025-04-10 16:46:50.135191 - (0, 0) glob_iter/iters_per_epoch : 0/777 \n",
      "/projectnb/ec523/students/yukktas/Project/Tacotron2/train.py:484: FutureWarning: `torch.cuda.amp.autocast(args...)` is deprecated. Please use `torch.amp.autocast('cuda', args...)` instead.\n",
      "  with torch.cuda.amp.autocast(enabled=args.amp):\n",
      "DLL 2025-04-10 16:46:54.574343 - (0, 0) train_loss : 47.663238525390625 \n",
      "DLL 2025-04-10 16:46:56.746287 - (0, 0) train_items_per_sec : 1355.284824152216 items/s\n",
      "DLL 2025-04-10 16:46:56.746425 - (0, 0) train_iter_time : 6.611156444996595 \n",
      "DLL 2025-04-10 16:46:56.749079 - (0, 1) glob_iter/iters_per_epoch : 1/777 \n",
      "DLL 2025-04-10 16:46:57.841735 - (0, 1) train_loss : 33.75428771972656 \n",
      "DLL 2025-04-10 16:46:59.015781 - (0, 1) train_items_per_sec : 3875.199091723745 items/s\n",
      "DLL 2025-04-10 16:46:59.015889 - (0, 1) train_iter_time : 2.266722248867154 \n",
      "DLL 2025-04-10 16:46:59.018943 - (0, 2) glob_iter/iters_per_epoch : 2/777 \n",
      "DLL 2025-04-10 16:46:59.917065 - (0, 2) train_loss : 22.190080642700195 \n",
      "DLL 2025-04-10 16:47:01.051032 - (0, 2) train_items_per_sec : 4894.448261556177 items/s\n",
      "DLL 2025-04-10 16:47:01.051148 - (0, 2) train_iter_time : 2.0320983016863465 \n",
      "DLL 2025-04-10 16:47:01.055685 - (0, 3) glob_iter/iters_per_epoch : 3/777 \n",
      "sys:1: UserWarning: Unexpected character £: please revise your text cleaning rules.\n",
      "DLL 2025-04-10 16:47:01.903567 - (0, 3) train_loss : 13.904026985168457 \n",
      "DLL 2025-04-10 16:47:02.976691 - (0, 3) train_items_per_sec : 5087.917785796281 items/s\n",
      "DLL 2025-04-10 16:47:02.976803 - (0, 3) train_iter_time : 1.921021606773138 \n",
      "DLL 2025-04-10 16:47:02.981092 - (0, 4) glob_iter/iters_per_epoch : 4/777 \n",
      "DLL 2025-04-10 16:47:03.907932 - (0, 4) train_loss : 8.46978759765625 \n",
      "DLL 2025-04-10 16:47:05.086762 - (0, 4) train_items_per_sec : 5056.311198941951 items/s\n",
      "DLL 2025-04-10 16:47:05.086877 - (0, 4) train_iter_time : 2.105685267597437 \n",
      "DLL 2025-04-10 16:47:05.092140 - (0, 5) glob_iter/iters_per_epoch : 5/777 \n",
      "DLL 2025-04-10 16:47:05.997506 - (0, 5) train_loss : 7.469324588775635 \n",
      "DLL 2025-04-10 16:47:07.166553 - (0, 5) train_items_per_sec : 4846.14456255785 items/s\n",
      "DLL 2025-04-10 16:47:07.166672 - (0, 5) train_iter_time : 2.0744325453415513 \n",
      "DLL 2025-04-10 16:47:07.170743 - (0, 6) glob_iter/iters_per_epoch : 6/777 \n",
      "DLL 2025-04-10 16:47:08.095410 - (0, 6) train_loss : 6.801449298858643 \n",
      "DLL 2025-04-10 16:47:09.253458 - (0, 6) train_items_per_sec : 4425.929726938334 items/s\n",
      "DLL 2025-04-10 16:47:09.253570 - (0, 6) train_iter_time : 2.082726244814694 \n",
      "DLL 2025-04-10 16:47:09.257623 - (0, 7) glob_iter/iters_per_epoch : 7/777 \n",
      "DLL 2025-04-10 16:47:10.127285 - (0, 7) train_loss : 6.2139997482299805 \n",
      "DLL 2025-04-10 16:47:11.241199 - (0, 7) train_items_per_sec : 4874.000615975876 items/s\n",
      "DLL 2025-04-10 16:47:11.241316 - (0, 7) train_iter_time : 1.9835861260071397 \n",
      "DLL 2025-04-10 16:47:11.245206 - (0, 8) glob_iter/iters_per_epoch : 8/777 \n",
      "DLL 2025-04-10 16:47:12.148689 - (0, 8) train_loss : 6.134706974029541 \n",
      "DLL 2025-04-10 16:47:13.318398 - (0, 8) train_items_per_sec : 4486.305599082591 items/s\n",
      "DLL 2025-04-10 16:47:13.318509 - (0, 8) train_iter_time : 2.073198045603931 \n",
      "DLL 2025-04-10 16:47:13.323089 - (0, 9) glob_iter/iters_per_epoch : 9/777 \n",
      "DLL 2025-04-10 16:47:14.190400 - (0, 9) train_loss : 5.7242751121521 \n",
      "DLL 2025-04-10 16:47:15.318689 - (0, 9) train_items_per_sec : 4614.139930638179 items/s\n",
      "DLL 2025-04-10 16:47:15.318809 - (0, 9) train_iter_time : 1.995604844763875 \n",
      "DLL 2025-04-10 16:47:15.323507 - (0, 10) glob_iter/iters_per_epoch : 10/777 \n",
      "DLL 2025-04-10 16:47:16.228463 - (0, 10) train_loss : 4.952861309051514 \n",
      "DLL 2025-04-10 16:47:17.399148 - (0, 10) train_items_per_sec : 4127.356916650905 items/s\n",
      "DLL 2025-04-10 16:47:17.400011 - (0, 10) train_iter_time : 2.075662505812943 \n",
      "DLL 2025-04-10 16:47:17.403258 - (0, 11) glob_iter/iters_per_epoch : 11/777 \n",
      "DLL 2025-04-10 16:47:18.430248 - (0, 11) train_loss : 4.825832366943359 \n",
      "DLL 2025-04-10 16:47:19.586120 - (0, 11) train_items_per_sec : 4300.7674663972075 items/s\n",
      "DLL 2025-04-10 16:47:19.586235 - (0, 11) train_iter_time : 2.182866214774549 \n",
      "DLL 2025-04-10 16:47:19.590245 - (0, 12) glob_iter/iters_per_epoch : 12/777 \n",
      "DLL 2025-04-10 16:47:20.469037 - (0, 12) train_loss : 5.606207370758057 \n",
      "DLL 2025-04-10 16:47:21.515744 - (0, 12) train_items_per_sec : 4681.888232581219 items/s\n",
      "DLL 2025-04-10 16:47:21.515858 - (0, 12) train_iter_time : 1.9255051705986261 \n",
      "DLL 2025-04-10 16:47:21.520076 - (0, 13) glob_iter/iters_per_epoch : 13/777 \n",
      "DLL 2025-04-10 16:47:22.369343 - (0, 13) train_loss : 3.9432075023651123 \n",
      "DLL 2025-04-10 16:47:23.561970 - (0, 13) train_items_per_sec : 3912.523650107326 items/s\n",
      "DLL 2025-04-10 16:47:23.562085 - (0, 13) train_iter_time : 2.0419045900925994 \n",
      "DLL 2025-04-10 16:47:23.566026 - (0, 14) glob_iter/iters_per_epoch : 14/777 \n",
      "DLL 2025-04-10 16:47:24.445901 - (0, 14) train_loss : 4.363148212432861 \n",
      "DLL 2025-04-10 16:47:25.580822 - (0, 14) train_items_per_sec : 3907.082791456186 items/s\n",
      "DLL 2025-04-10 16:47:25.580938 - (0, 14) train_iter_time : 2.014802454970777 \n",
      "DLL 2025-04-10 16:47:25.584830 - (0, 15) glob_iter/iters_per_epoch : 15/777 \n",
      "DLL 2025-04-10 16:47:26.449469 - (0, 15) train_loss : 4.5980706214904785 \n",
      "DLL 2025-04-10 16:47:27.561269 - (0, 15) train_items_per_sec : 4724.1418303234805 items/s\n",
      "DLL 2025-04-10 16:47:27.561384 - (0, 15) train_iter_time : 1.976443624123931 \n",
      "DLL 2025-04-10 16:47:27.566062 - (0, 16) glob_iter/iters_per_epoch : 16/777 \n",
      "DLL 2025-04-10 16:47:28.339073 - (0, 16) train_loss : 3.97511887550354 \n",
      "DLL 2025-04-10 16:47:29.446485 - (0, 16) train_items_per_sec : 4137.90602492913 items/s\n",
      "DLL 2025-04-10 16:47:29.446648 - (0, 16) train_iter_time : 1.8804196985438466 \n",
      "DLL 2025-04-10 16:47:29.450879 - (0, 17) glob_iter/iters_per_epoch : 17/777 \n",
      "DLL 2025-04-10 16:47:30.332022 - (0, 17) train_loss : 3.95773983001709 \n",
      "DLL 2025-04-10 16:47:31.460894 - (0, 17) train_items_per_sec : 4121.328130060143 items/s\n",
      "DLL 2025-04-10 16:47:31.461002 - (0, 17) train_iter_time : 2.010031654499471 \n",
      "DLL 2025-04-10 16:47:31.464819 - (0, 18) glob_iter/iters_per_epoch : 18/777 \n",
      "DLL 2025-04-10 16:47:32.326934 - (0, 18) train_loss : 4.065911293029785 \n",
      "DLL 2025-04-10 16:47:33.435027 - (0, 18) train_items_per_sec : 4543.163723771434 items/s\n",
      "DLL 2025-04-10 16:47:33.435136 - (0, 18) train_iter_time : 1.9702129494398832 \n",
      "DLL 2025-04-10 16:47:33.439591 - (0, 19) glob_iter/iters_per_epoch : 19/777 \n",
      "DLL 2025-04-10 16:47:34.280046 - (0, 19) train_loss : 4.028051376342773 \n",
      "DLL 2025-04-10 16:47:35.476359 - (0, 19) train_items_per_sec : 4563.585940575001 items/s\n",
      "DLL 2025-04-10 16:47:35.476468 - (0, 19) train_iter_time : 2.03677549213171 \n",
      "DLL 2025-04-10 16:47:35.480721 - (0, 20) glob_iter/iters_per_epoch : 20/777 \n",
      "DLL 2025-04-10 16:47:36.371291 - (0, 20) train_loss : 4.156844139099121 \n",
      "DLL 2025-04-10 16:47:37.495573 - (0, 20) train_items_per_sec : 4660.8688707201745 items/s\n",
      "DLL 2025-04-10 16:47:37.495690 - (0, 20) train_iter_time : 2.014860374853015 \n",
      "DLL 2025-04-10 16:47:37.500371 - (0, 21) glob_iter/iters_per_epoch : 21/777 \n",
      "DLL 2025-04-10 16:47:38.328850 - (0, 21) train_loss : 3.9348549842834473 \n",
      "DLL 2025-04-10 16:47:39.345653 - (0, 21) train_items_per_sec : 4427.484374482326 items/s\n",
      "DLL 2025-04-10 16:47:39.345760 - (0, 21) train_iter_time : 1.845291662029922 \n",
      "DLL 2025-04-10 16:47:39.349834 - (0, 22) glob_iter/iters_per_epoch : 22/777 \n",
      "DLL 2025-04-10 16:47:40.321059 - (0, 22) train_loss : 3.989525556564331 \n",
      "DLL 2025-04-10 16:47:41.397837 - (0, 22) train_items_per_sec : 4054.6413110472163 items/s\n",
      "DLL 2025-04-10 16:47:41.397945 - (0, 22) train_iter_time : 2.0480233300477266 \n",
      "DLL 2025-04-10 16:47:41.401790 - (0, 23) glob_iter/iters_per_epoch : 23/777 \n",
      "DLL 2025-04-10 16:47:42.317912 - (0, 23) train_loss : 3.926464557647705 \n",
      "DLL 2025-04-10 16:47:43.502498 - (0, 23) train_items_per_sec : 4458.95062776663 items/s\n",
      "DLL 2025-04-10 16:47:43.502604 - (0, 23) train_iter_time : 2.1007184833288193 \n",
      "DLL 2025-04-10 16:47:43.506718 - (0, 24) glob_iter/iters_per_epoch : 24/777 \n",
      "DLL 2025-04-10 16:47:44.425245 - (0, 24) train_loss : 3.518955945968628 \n",
      "DLL 2025-04-10 16:47:45.608609 - (0, 24) train_items_per_sec : 4117.235273477694 items/s\n",
      "DLL 2025-04-10 16:47:45.608726 - (0, 24) train_iter_time : 2.101895914413035 \n",
      "DLL 2025-04-10 16:47:45.612784 - (0, 25) glob_iter/iters_per_epoch : 25/777 \n",
      "DLL 2025-04-10 16:47:46.517526 - (0, 25) train_loss : 3.8546698093414307 \n",
      "DLL 2025-04-10 16:47:47.683376 - (0, 25) train_items_per_sec : 4612.1831455500005 items/s\n",
      "DLL 2025-04-10 16:47:47.683485 - (0, 25) train_iter_time : 2.0706029441207647 \n",
      "DLL 2025-04-10 16:47:47.687894 - (0, 26) glob_iter/iters_per_epoch : 26/777 \n",
      "DLL 2025-04-10 16:47:48.543247 - (0, 26) train_loss : 3.5295801162719727 \n",
      "DLL 2025-04-10 16:47:49.780560 - (0, 26) train_items_per_sec : 4133.475935017428 items/s\n",
      "DLL 2025-04-10 16:47:49.780682 - (0, 26) train_iter_time : 2.0926697375252843 \n",
      "DLL 2025-04-10 16:47:49.785447 - (0, 27) glob_iter/iters_per_epoch : 27/777 \n",
      "DLL 2025-04-10 16:47:50.667817 - (0, 27) train_loss : 3.6619467735290527 \n",
      "DLL 2025-04-10 16:47:51.791411 - (0, 27) train_items_per_sec : 4519.009321370363 items/s\n",
      "DLL 2025-04-10 16:47:51.791518 - (0, 27) train_iter_time : 2.0059706354513764 \n",
      "DLL 2025-04-10 16:47:51.795656 - (0, 28) glob_iter/iters_per_epoch : 28/777 \n",
      "DLL 2025-04-10 16:47:52.696832 - (0, 28) train_loss : 3.7475130558013916 \n",
      "DLL 2025-04-10 16:47:53.861846 - (0, 28) train_items_per_sec : 4493.767551563471 items/s\n",
      "DLL 2025-04-10 16:47:53.861951 - (0, 28) train_iter_time : 2.066194989718497 \n",
      "DLL 2025-04-10 16:47:53.866290 - (0, 29) glob_iter/iters_per_epoch : 29/777 \n",
      "DLL 2025-04-10 16:47:54.792648 - (0, 29) train_loss : 3.7281391620635986 \n"
     ]
    }
   ],
   "source": [
    "# Directly run training (adjust epochs, lr, etc. as needed)\n",
    "!python train.py \\\n",
    "  -m Tacotron2 \\\n",
    "  -o . \\\n",
    "  -lr 1e-3 \\\n",
    "  -bs 16 \\\n",
    "  --epochs 1500 \\\n",
    "  --training-files filelists/train.txt \\\n",
    "  --validation-files filelists/val.txt \\\n",
    "  --log-file output/log_tacotron2.txt \\\n",
    "  --cudnn-enabled"
   ]
  },
  {
   "cell_type": "markdown",
   "id": "f8ec7b86",
   "metadata": {},
   "source": [
    "Train WaveGlow Vocoder"
   ]
  },
  {
   "cell_type": "code",
   "execution_count": null,
   "id": "131b4a93",
   "metadata": {},
   "outputs": [],
   "source": [
    "!python train.py -m WaveGlow -o output/ --lr 1e-4 --epochs 1000 --bs 10 --log-file output/log_waveglow.txt"
   ]
  },
  {
   "cell_type": "markdown",
   "id": "0f166177",
   "metadata": {},
   "source": [
    "## Evaluate Results"
   ]
  },
  {
   "cell_type": "code",
   "execution_count": null,
   "id": "a01d3691",
   "metadata": {},
   "outputs": [],
   "source": [
    "# Plot or read logs\n",
    "import json\n",
    "import matplotlib.pyplot as plt\n",
    "\n",
    "with open('output/nvlog.json') as f:\n",
    "    logs = json.load(f)\n",
    "\n",
    "train_loss = [x['train_loss'] for x in logs if 'train_loss' in x]\n",
    "plt.plot(train_loss)\n",
    "plt.title('Training Loss Curve')\n",
    "plt.xlabel('Epoch')\n",
    "plt.ylabel('Loss')\n",
    "plt.grid(True)\n",
    "plt.show()"
   ]
  },
  {
   "cell_type": "markdown",
   "id": "666f7fee",
   "metadata": {},
   "source": [
    "## Inference (Text → Audio)"
   ]
  },
  {
   "cell_type": "code",
   "execution_count": null,
   "id": "97bc68b9",
   "metadata": {},
   "outputs": [],
   "source": [
    "from inference import synthesize_speech\n",
    "from waveglow import infer_waveform\n",
    "import IPython.display as ipd\n",
    "\n",
    "text = \"Hello, Please let this work.\"\n",
    "mel = synthesize_speech(model, text)\n",
    "audio = infer_waveform(mel)\n",
    "ipd.Audio(audio, rate=22050)"
   ]
  }
 ],
 "metadata": {
  "kernelspec": {
   "display_name": "Python 3 (ipykernel)",
   "language": "python",
   "name": "python3"
  },
  "language_info": {
   "codemirror_mode": {
    "name": "ipython",
    "version": 3
   },
   "file_extension": ".py",
   "mimetype": "text/x-python",
   "name": "python",
   "nbconvert_exporter": "python",
   "pygments_lexer": "ipython3",
   "version": "3.11.11"
  }
 },
 "nbformat": 4,
 "nbformat_minor": 5
}
